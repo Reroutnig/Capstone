{
 "cells": [
  {
   "cell_type": "code",
   "execution_count": null,
   "id": "858d3375",
   "metadata": {},
   "outputs": [],
   "source": [
    "import tkinter as tk\n",
    "import tkinter.font as tkFont\n",
    "\n",
    "#Creating a window\n",
    "window = tk.Tk()\n",
    "window.title(\"Netflix Recommender\") #Titling the window\n",
    "window.geometry(\"500x500\") #Setting dimensions\n",
    "window.configure(bg=\"black\") #Setting background color\n",
    "\n",
    "#Header font and size\n",
    "helv36 = tkFont.Font(family='Helvetica', size=24, weight='bold')\n",
    "#Title label and color configuration\n",
    "title = tk.Label(text=\"Netflix Recommender\", font=helv36)\n",
    "title.configure(bg=\"black\", fg=\"maroon\")\n",
    "title.pack() #Packing the title\n",
    "\n",
    "#Subtitle font and size\n",
    "helv12 = tkFont.Font(family='Helvetica', size=10, weight='normal')\n",
    "#Subtitle label and color configuration\n",
    "subtitle = tk.Label(text=\"Please select 3 filters!\", font=helv12)\n",
    "subtitle.configure(bg=\"black\", fg=\"white\")\n",
    "subtitle.pack() #Packing the subtitle\n",
    "\n",
    "\n",
    "\n",
    "\n",
    "tk.mainloop()"
   ]
  }
 ],
 "metadata": {
  "kernelspec": {
   "display_name": "Python 3 (ipykernel)",
   "language": "python",
   "name": "python3"
  },
  "language_info": {
   "codemirror_mode": {
    "name": "ipython",
    "version": 3
   },
   "file_extension": ".py",
   "mimetype": "text/x-python",
   "name": "python",
   "nbconvert_exporter": "python",
   "pygments_lexer": "ipython3",
   "version": "3.12.1"
  }
 },
 "nbformat": 4,
 "nbformat_minor": 5
}
